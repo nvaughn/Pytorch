{
  "nbformat": 4,
  "nbformat_minor": 0,
  "metadata": {
    "colab": {
      "provenance": [],
      "gpuType": "T4",
      "authorship_tag": "ABX9TyPX9XYC/mpO/d8xI6VGeTtO",
      "include_colab_link": true
    },
    "kernelspec": {
      "name": "python3",
      "display_name": "Python 3"
    },
    "language_info": {
      "name": "python"
    },
    "accelerator": "GPU"
  },
  "cells": [
    {
      "cell_type": "markdown",
      "metadata": {
        "id": "view-in-github",
        "colab_type": "text"
      },
      "source": [
        "<a href=\"https://colab.research.google.com/github/nvaughn/Pytorch/blob/main/Pytorch_Fundamentals.ipynb\" target=\"_parent\"><img src=\"https://colab.research.google.com/assets/colab-badge.svg\" alt=\"Open In Colab\"/></a>"
      ]
    },
    {
      "cell_type": "code",
      "execution_count": 1,
      "metadata": {
        "colab": {
          "base_uri": "https://localhost:8080/",
          "height": 35
        },
        "id": "W-xd6uOWtCKx",
        "outputId": "7c50afe7-397d-4f65-b7d0-9c588985f5f3"
      },
      "outputs": [
        {
          "output_type": "execute_result",
          "data": {
            "text/plain": [
              "'2.0.1+cu118'"
            ],
            "application/vnd.google.colaboratory.intrinsic+json": {
              "type": "string"
            }
          },
          "metadata": {},
          "execution_count": 1
        }
      ],
      "source": [
        "import torch\n",
        "torch.__version__\n"
      ]
    },
    {
      "cell_type": "code",
      "source": [],
      "metadata": {
        "id": "f5SQqaEqtNu4"
      },
      "execution_count": 1,
      "outputs": []
    },
    {
      "cell_type": "markdown",
      "source": [
        "# The Tensor\n",
        "\n",
        "A tensor is a mathematical object that generalizes scalars, vectors, and matrices into higher-dimensional spaces. It’s an array of numbers and functions encompassing physical quantities, geometric transformations, and various mathematical entities. In a way, tensors are containers that present data in n-dimensions. They are typically grids of numbers called N-way arrays.\n",
        "\n",
        "### https://pytorch.org/docs/stable/tensors.html"
      ],
      "metadata": {
        "id": "KWgand30tfWk"
      }
    },
    {
      "cell_type": "code",
      "source": [],
      "metadata": {
        "id": "7PpeRM5Zu0lp"
      },
      "execution_count": 1,
      "outputs": []
    },
    {
      "cell_type": "markdown",
      "source": [
        "## The Scalar\n",
        "\n",
        "A scalar is a single number.  This is known as a zero dimension tensor."
      ],
      "metadata": {
        "id": "0fYaUT3DvB-p"
      }
    },
    {
      "cell_type": "code",
      "source": [
        "scalar = torch.tensor(42)\n",
        "\n",
        "scalar"
      ],
      "metadata": {
        "colab": {
          "base_uri": "https://localhost:8080/"
        },
        "id": "InYw-72Ku7wA",
        "outputId": "3c56cd02-71b3-4add-b296-abc313ffcc59"
      },
      "execution_count": 2,
      "outputs": [
        {
          "output_type": "execute_result",
          "data": {
            "text/plain": [
              "tensor(42)"
            ]
          },
          "metadata": {},
          "execution_count": 2
        }
      ]
    },
    {
      "cell_type": "code",
      "source": [],
      "metadata": {
        "id": "dVhAhMmIvRkt"
      },
      "execution_count": 2,
      "outputs": []
    },
    {
      "cell_type": "markdown",
      "source": [
        "We can check the dimensions of a tensor with the **ndim** attribute\n",
        "\n"
      ],
      "metadata": {
        "id": "cZ6h1NvGvcXF"
      }
    },
    {
      "cell_type": "code",
      "source": [
        "scalar.ndim"
      ],
      "metadata": {
        "colab": {
          "base_uri": "https://localhost:8080/"
        },
        "id": "tnissCN4vfv3",
        "outputId": "b47eda54-30a5-45cf-a9f8-c1270743b007"
      },
      "execution_count": 3,
      "outputs": [
        {
          "output_type": "execute_result",
          "data": {
            "text/plain": [
              "0"
            ]
          },
          "metadata": {},
          "execution_count": 3
        }
      ]
    },
    {
      "cell_type": "code",
      "source": [],
      "metadata": {
        "id": "4ui-cGb7vqHJ"
      },
      "execution_count": 3,
      "outputs": []
    },
    {
      "cell_type": "markdown",
      "source": [
        "To retrieve the value use the **item()** method"
      ],
      "metadata": {
        "id": "xMJfb2vXv1KL"
      }
    },
    {
      "cell_type": "code",
      "source": [
        "scalar.item()"
      ],
      "metadata": {
        "colab": {
          "base_uri": "https://localhost:8080/"
        },
        "id": "WF3X7dqbv5Xz",
        "outputId": "ac7b5010-b2c8-4716-dabe-0eafa7ab092f"
      },
      "execution_count": 4,
      "outputs": [
        {
          "output_type": "execute_result",
          "data": {
            "text/plain": [
              "42"
            ]
          },
          "metadata": {},
          "execution_count": 4
        }
      ]
    },
    {
      "cell_type": "markdown",
      "source": [
        "# The Vector\n",
        "\n",
        "A **vector** is a single dimension **tensor** that can have multiple numbers.  \n",
        "\n",
        "###NOTE: You must group the members of the vector in an array []\n",
        "###NOTE: You can quickly tell how many demensions a tensor has by counting the opening square brackets"
      ],
      "metadata": {
        "id": "_Mymq9M-wDKR"
      }
    },
    {
      "cell_type": "code",
      "source": [
        "vector = torch.tensor([42, 7])\n",
        "vector\n",
        "vector.ndim"
      ],
      "metadata": {
        "colab": {
          "base_uri": "https://localhost:8080/"
        },
        "id": "If0IZmn4v7Mi",
        "outputId": "863d40df-6336-44b3-d9b7-44ac8a004794"
      },
      "execution_count": 5,
      "outputs": [
        {
          "output_type": "execute_result",
          "data": {
            "text/plain": [
              "1"
            ]
          },
          "metadata": {},
          "execution_count": 5
        }
      ]
    },
    {
      "cell_type": "markdown",
      "source": [
        "The **shape** attribute details how the members are arranged in the tensor"
      ],
      "metadata": {
        "id": "t03-Xx6nxFcQ"
      }
    },
    {
      "cell_type": "code",
      "source": [
        "vector.shape"
      ],
      "metadata": {
        "colab": {
          "base_uri": "https://localhost:8080/"
        },
        "id": "1I0pvFvSwatb",
        "outputId": "d706e196-21bc-4704-e7fe-24928f280db9"
      },
      "execution_count": 6,
      "outputs": [
        {
          "output_type": "execute_result",
          "data": {
            "text/plain": [
              "torch.Size([2])"
            ]
          },
          "metadata": {},
          "execution_count": 6
        }
      ]
    },
    {
      "cell_type": "markdown",
      "source": [
        "# The Matrix\n",
        "\n",
        "A matrix is two dimensional tensor.  Think scoreboard\n",
        "\n",
        "### NOTE: Torch requires all tensors to be one argument.  So the two dimensions must be inclosed in a array.\n",
        "\n",
        "### NOTE: Again count the number of opening (left || right) brackets to get the number of dimensions. Or just check the **ndim** attribute"
      ],
      "metadata": {
        "id": "EUB19ssCxgSl"
      }
    },
    {
      "cell_type": "code",
      "source": [
        "MATRIX = torch.tensor([[42, 7], [6,1]])\n",
        "MATRIX\n",
        "MATRIX.ndim\n"
      ],
      "metadata": {
        "colab": {
          "base_uri": "https://localhost:8080/"
        },
        "id": "2mZYIT3sxOB-",
        "outputId": "9176dc20-b8e0-4ea3-e114-6b7d5322585f"
      },
      "execution_count": 7,
      "outputs": [
        {
          "output_type": "execute_result",
          "data": {
            "text/plain": [
              "2"
            ]
          },
          "metadata": {},
          "execution_count": 7
        }
      ]
    },
    {
      "cell_type": "code",
      "source": [
        "MATRIX.shape\n"
      ],
      "metadata": {
        "colab": {
          "base_uri": "https://localhost:8080/"
        },
        "id": "8ZEOhiZvyCPc",
        "outputId": "69699b5d-38c1-4504-8ed1-3b98d2ad5e08"
      },
      "execution_count": 8,
      "outputs": [
        {
          "output_type": "execute_result",
          "data": {
            "text/plain": [
              "torch.Size([2, 2])"
            ]
          },
          "metadata": {},
          "execution_count": 8
        }
      ]
    },
    {
      "cell_type": "markdown",
      "source": [
        "# The Tensor\n",
        "\n",
        "Although all of these are tensors. We generally refer to zero dimension tensors as scalars, One dimensional tensors as vectors, Two dimensional tensors as matrixs and any higher number of dimensions as tensors\n",
        "\n",
        "When visualizing a 3 dimensional tensor think Spreadsheet"
      ],
      "metadata": {
        "id": "vtF4li3Q2lVt"
      }
    },
    {
      "cell_type": "code",
      "source": [
        "TENSOR = torch.tensor([[[42,7], [6,1], [48,8]]])\n",
        "TENSOR\n",
        "TENSOR.ndim"
      ],
      "metadata": {
        "colab": {
          "base_uri": "https://localhost:8080/"
        },
        "id": "ATZYdRT42clK",
        "outputId": "f4f80960-3ca5-475a-eaab-7f3ec27e21e2"
      },
      "execution_count": 9,
      "outputs": [
        {
          "output_type": "execute_result",
          "data": {
            "text/plain": [
              "3"
            ]
          },
          "metadata": {},
          "execution_count": 9
        }
      ]
    },
    {
      "cell_type": "code",
      "source": [
        "TENSOR.shape"
      ],
      "metadata": {
        "colab": {
          "base_uri": "https://localhost:8080/"
        },
        "id": "UjyEmBOw32IZ",
        "outputId": "c8d44bbf-cdf7-491a-87c9-0223bf63c5d2"
      },
      "execution_count": 10,
      "outputs": [
        {
          "output_type": "execute_result",
          "data": {
            "text/plain": [
              "torch.Size([1, 3, 2])"
            ]
          },
          "metadata": {},
          "execution_count": 10
        }
      ]
    },
    {
      "cell_type": "markdown",
      "source": [
        "## NOTE: scalars and vectors are normally listed in lowercase and Matrixs and Tensor uppercase"
      ],
      "metadata": {
        "id": "Bq5XHuM947yy"
      }
    },
    {
      "cell_type": "markdown",
      "source": [
        "## Creating randomized tensors\n",
        "\n",
        "(This is normally how things start off when processing data. Then we use functions to adjust the values of the tensors)"
      ],
      "metadata": {
        "id": "ijCL0UIf6MLV"
      }
    },
    {
      "cell_type": "code",
      "source": [
        "RANDOM_MATRIX = torch.rand(3,2)\n",
        "RANDOM_MATRIX\n"
      ],
      "metadata": {
        "colab": {
          "base_uri": "https://localhost:8080/"
        },
        "id": "vcABtl6338A2",
        "outputId": "483e0831-f83b-45c8-b676-908a500be7a4"
      },
      "execution_count": 11,
      "outputs": [
        {
          "output_type": "execute_result",
          "data": {
            "text/plain": [
              "tensor([[0.4614, 0.6837],\n",
              "        [0.9892, 0.6110],\n",
              "        [0.5178, 0.2509]])"
            ]
          },
          "metadata": {},
          "execution_count": 11
        }
      ]
    },
    {
      "cell_type": "code",
      "source": [
        "RANDOM_TENSOR = torch.rand(3,4)\n",
        "RANDOM_TENSOR"
      ],
      "metadata": {
        "colab": {
          "base_uri": "https://localhost:8080/"
        },
        "id": "uiGYXtzM42Bc",
        "outputId": "6903298a-af20-49e4-e430-0c2b7efc8426"
      },
      "execution_count": 12,
      "outputs": [
        {
          "output_type": "execute_result",
          "data": {
            "text/plain": [
              "tensor([[0.8665, 0.6328, 0.6417, 0.8427],\n",
              "        [0.8683, 0.0077, 0.9816, 0.4947],\n",
              "        [0.9481, 0.7733, 0.1747, 0.9187]])"
            ]
          },
          "metadata": {},
          "execution_count": 12
        }
      ]
    },
    {
      "cell_type": "markdown",
      "source": [
        "## Random Image Example"
      ],
      "metadata": {
        "id": "rqy9WGYF7QSL"
      }
    },
    {
      "cell_type": "code",
      "source": [
        "random_image_tensor = torch.rand(size = (224, 224, 3))\n",
        "random_image_tensor"
      ],
      "metadata": {
        "colab": {
          "base_uri": "https://localhost:8080/"
        },
        "id": "Ucq4mt5s6625",
        "outputId": "89f4c841-1764-46e9-fe8c-b771575a3e54"
      },
      "execution_count": 13,
      "outputs": [
        {
          "output_type": "execute_result",
          "data": {
            "text/plain": [
              "tensor([[[0.3687, 0.9506, 0.5882],\n",
              "         [0.8908, 0.2584, 0.4176],\n",
              "         [0.3582, 0.7769, 0.9909],\n",
              "         ...,\n",
              "         [0.6837, 0.7045, 0.5380],\n",
              "         [0.6918, 0.5665, 0.8076],\n",
              "         [0.5572, 0.6219, 0.1744]],\n",
              "\n",
              "        [[0.8500, 0.2150, 0.2111],\n",
              "         [0.3563, 0.5003, 0.1792],\n",
              "         [0.5303, 0.3746, 0.4910],\n",
              "         ...,\n",
              "         [0.5753, 0.3327, 0.7855],\n",
              "         [0.5102, 0.8359, 0.4915],\n",
              "         [0.5158, 0.2836, 0.0375]],\n",
              "\n",
              "        [[0.3383, 0.9383, 0.6941],\n",
              "         [0.7779, 0.9457, 0.3660],\n",
              "         [0.3624, 0.2970, 0.3620],\n",
              "         ...,\n",
              "         [0.8846, 0.6395, 0.7752],\n",
              "         [0.7989, 0.6739, 0.1884],\n",
              "         [0.2077, 0.5277, 0.5842]],\n",
              "\n",
              "        ...,\n",
              "\n",
              "        [[0.7479, 0.4064, 0.6990],\n",
              "         [0.1658, 0.8485, 0.9852],\n",
              "         [0.8512, 0.2181, 0.8598],\n",
              "         ...,\n",
              "         [0.6205, 0.2422, 0.1839],\n",
              "         [0.6571, 0.5917, 0.4174],\n",
              "         [0.9202, 0.1450, 0.0980]],\n",
              "\n",
              "        [[0.7450, 0.4990, 0.8427],\n",
              "         [0.9546, 0.0994, 0.5267],\n",
              "         [0.4429, 0.3016, 0.6608],\n",
              "         ...,\n",
              "         [0.4104, 0.6093, 0.0981],\n",
              "         [0.8270, 0.0467, 0.5495],\n",
              "         [0.7756, 0.2691, 0.3010]],\n",
              "\n",
              "        [[0.1103, 0.6319, 0.2458],\n",
              "         [0.0581, 0.7084, 0.7341],\n",
              "         [0.7390, 0.9476, 0.5240],\n",
              "         ...,\n",
              "         [0.3845, 0.8867, 0.5312],\n",
              "         [0.3406, 0.3135, 0.6219],\n",
              "         [0.6651, 0.4009, 0.2555]]])"
            ]
          },
          "metadata": {},
          "execution_count": 13
        }
      ]
    },
    {
      "cell_type": "code",
      "source": [
        "random_image_tensor.shape"
      ],
      "metadata": {
        "colab": {
          "base_uri": "https://localhost:8080/"
        },
        "id": "dqYK7skA7hrm",
        "outputId": "b74a2c65-209a-41e4-e111-4cc5c62c78b9"
      },
      "execution_count": 14,
      "outputs": [
        {
          "output_type": "execute_result",
          "data": {
            "text/plain": [
              "torch.Size([224, 224, 3])"
            ]
          },
          "metadata": {},
          "execution_count": 14
        }
      ]
    },
    {
      "cell_type": "code",
      "source": [
        "random_image_tensor.ndim"
      ],
      "metadata": {
        "colab": {
          "base_uri": "https://localhost:8080/"
        },
        "id": "8qqbB1N_7s6Y",
        "outputId": "4d1897be-333a-471d-cfcd-d83e51fdc45e"
      },
      "execution_count": 15,
      "outputs": [
        {
          "output_type": "execute_result",
          "data": {
            "text/plain": [
              "3"
            ]
          },
          "metadata": {},
          "execution_count": 15
        }
      ]
    },
    {
      "cell_type": "markdown",
      "source": [
        "# Zeroing Out Tensors\n",
        "\n",
        "At times you may need to fill a tensors with zeros when applying a mask.  Use the torch.zeros() function"
      ],
      "metadata": {
        "id": "637q6GHW8WS-"
      }
    },
    {
      "cell_type": "code",
      "source": [
        "zeros_tensor = torch.zeros(size=(3,4))\n",
        "zeros_tensor, zeros_tensor.dtype"
      ],
      "metadata": {
        "colab": {
          "base_uri": "https://localhost:8080/"
        },
        "id": "SuRzLDxh73j3",
        "outputId": "950b7ea8-c0b0-477f-f7db-d0ab4239f153"
      },
      "execution_count": 16,
      "outputs": [
        {
          "output_type": "execute_result",
          "data": {
            "text/plain": [
              "(tensor([[0., 0., 0., 0.],\n",
              "         [0., 0., 0., 0.],\n",
              "         [0., 0., 0., 0.]]),\n",
              " torch.float32)"
            ]
          },
          "metadata": {},
          "execution_count": 16
        }
      ]
    },
    {
      "cell_type": "markdown",
      "source": [
        "## We can do the same with ones using torch.ones()"
      ],
      "metadata": {
        "id": "aYLkCJxx86fi"
      }
    },
    {
      "cell_type": "code",
      "source": [
        "ones_tensor = torch.ones(size=(3,4))\n",
        "ones_tensor, ones_tensor.dtype"
      ],
      "metadata": {
        "colab": {
          "base_uri": "https://localhost:8080/"
        },
        "id": "SCsWVe3r8UeT",
        "outputId": "ad7af1cd-832a-43bd-a29d-8c2f607e6cb6"
      },
      "execution_count": 17,
      "outputs": [
        {
          "output_type": "execute_result",
          "data": {
            "text/plain": [
              "(tensor([[1., 1., 1., 1.],\n",
              "         [1., 1., 1., 1.],\n",
              "         [1., 1., 1., 1.]]),\n",
              " torch.float32)"
            ]
          },
          "metadata": {},
          "execution_count": 17
        }
      ]
    },
    {
      "cell_type": "markdown",
      "source": [
        "## Or create a range with torch.range()"
      ],
      "metadata": {
        "id": "tjivoO189X7n"
      }
    },
    {
      "cell_type": "code",
      "source": [
        "zero_to_ten = torch.arange(0,10)\n",
        "zero_to_ten"
      ],
      "metadata": {
        "colab": {
          "base_uri": "https://localhost:8080/"
        },
        "id": "apqiXVkw9Idn",
        "outputId": "a0ffc29e-a501-4a93-e02e-63feadc4523a"
      },
      "execution_count": 18,
      "outputs": [
        {
          "output_type": "execute_result",
          "data": {
            "text/plain": [
              "tensor([0, 1, 2, 3, 4, 5, 6, 7, 8, 9])"
            ]
          },
          "metadata": {},
          "execution_count": 18
        }
      ]
    },
    {
      "cell_type": "code",
      "source": [
        "zero_to_ten_with_step = torch.arange(start=0, end=10, step=1)\n",
        "zero_to_ten_with_step"
      ],
      "metadata": {
        "colab": {
          "base_uri": "https://localhost:8080/"
        },
        "id": "gL-5jRew9lRR",
        "outputId": "a6712b09-4f82-42f1-e2aa-3cc2c89536fc"
      },
      "execution_count": 19,
      "outputs": [
        {
          "output_type": "execute_result",
          "data": {
            "text/plain": [
              "tensor([0, 1, 2, 3, 4, 5, 6, 7, 8, 9])"
            ]
          },
          "metadata": {},
          "execution_count": 19
        }
      ]
    },
    {
      "cell_type": "code",
      "source": [
        "zero_to_ten_with_step2 = torch.arange(start=0, end=10, step=2)\n",
        "zero_to_ten_with_step2"
      ],
      "metadata": {
        "colab": {
          "base_uri": "https://localhost:8080/"
        },
        "id": "fU_u8Msc972q",
        "outputId": "2e8fc532-2843-47fa-9886-247372c6cb0d"
      },
      "execution_count": 20,
      "outputs": [
        {
          "output_type": "execute_result",
          "data": {
            "text/plain": [
              "tensor([0, 2, 4, 6, 8])"
            ]
          },
          "metadata": {},
          "execution_count": 20
        }
      ]
    },
    {
      "cell_type": "markdown",
      "source": [
        "## Creating duplicate existing tensor shape with 1's or 0's"
      ],
      "metadata": {
        "id": "jhYZLsI8-OHZ"
      }
    },
    {
      "cell_type": "code",
      "source": [
        "duplicate_w_zeros = torch.zeros_like(input=zero_to_ten)\n",
        "duplicate_w_zeros"
      ],
      "metadata": {
        "colab": {
          "base_uri": "https://localhost:8080/"
        },
        "id": "8tV9sk6E9_8t",
        "outputId": "ac0a103f-fb8f-4775-fbe2-b670815301aa"
      },
      "execution_count": 21,
      "outputs": [
        {
          "output_type": "execute_result",
          "data": {
            "text/plain": [
              "tensor([0, 0, 0, 0, 0, 0, 0, 0, 0, 0])"
            ]
          },
          "metadata": {},
          "execution_count": 21
        }
      ]
    },
    {
      "cell_type": "markdown",
      "source": [
        "Pytorch Tensors can have a number of different datatypes. You can specify the datatype with the dtype argument at tensor creation. Some are good for CPU some are good for GPU.  If you see something that states CUDA.. This is GPU.\n",
        "\n",
        "For a list of all supported tensor dtypes review: https://pytorch.org/docs/stable/tensors.html#data-types"
      ],
      "metadata": {
        "id": "e7Eod_5i_Bhx"
      }
    },
    {
      "cell_type": "code",
      "source": [
        "float_32_tensor = torch.tensor([[[42,7], [6,1], [48,8]]], dtype=torch.float32, device=None, requires_grad=False)\n",
        "float_32_tensor, float_32_tensor.dtype, float_32_tensor.device, float_32_tensor.shape"
      ],
      "metadata": {
        "colab": {
          "base_uri": "https://localhost:8080/"
        },
        "id": "CXk7UTDq-dz7",
        "outputId": "72b58aa4-59a8-4c26-afb0-b972b5aaeb8f"
      },
      "execution_count": 22,
      "outputs": [
        {
          "output_type": "execute_result",
          "data": {
            "text/plain": [
              "(tensor([[[42.,  7.],\n",
              "          [ 6.,  1.],\n",
              "          [48.,  8.]]]),\n",
              " torch.float32,\n",
              " device(type='cpu'),\n",
              " torch.Size([1, 3, 2]))"
            ]
          },
          "metadata": {},
          "execution_count": 22
        }
      ]
    },
    {
      "cell_type": "markdown",
      "source": [
        "## Note the defaults with (None)"
      ],
      "metadata": {
        "id": "5lILVaUoBE-s"
      }
    },
    {
      "cell_type": "code",
      "source": [
        "default_dtype_tensor = torch.tensor([[[42,7], [6,1], [48,8]]], dtype=None, device=None, requires_grad=False)\n",
        "default_dtype_tensor, default_dtype_tensor.dtype, default_dtype_tensor.device, default_dtype_tensor.shape"
      ],
      "metadata": {
        "colab": {
          "base_uri": "https://localhost:8080/"
        },
        "id": "3uE27LysAOsF",
        "outputId": "9cefa647-515e-468e-ebd4-6a37c1eaff43"
      },
      "execution_count": 23,
      "outputs": [
        {
          "output_type": "execute_result",
          "data": {
            "text/plain": [
              "(tensor([[[42,  7],\n",
              "          [ 6,  1],\n",
              "          [48,  8]]]),\n",
              " torch.int64,\n",
              " device(type='cpu'),\n",
              " torch.Size([1, 3, 2]))"
            ]
          },
          "metadata": {},
          "execution_count": 23
        }
      ]
    },
    {
      "cell_type": "code",
      "source": [
        "print(default_dtype_tensor)\n",
        "print(f\"Shape of tensor: {default_dtype_tensor.shape}\")\n",
        "print(f\"Datatype of tensor: {default_dtype_tensor.dtype}\")\n",
        "print(f\"Device tensor is stored on: {default_dtype_tensor.device}\")"
      ],
      "metadata": {
        "colab": {
          "base_uri": "https://localhost:8080/"
        },
        "id": "Nl3V6tRIBODa",
        "outputId": "1b24a6f7-c1f9-46b1-8320-f181296fd63b"
      },
      "execution_count": 24,
      "outputs": [
        {
          "output_type": "stream",
          "name": "stdout",
          "text": [
            "tensor([[[42,  7],\n",
            "         [ 6,  1],\n",
            "         [48,  8]]])\n",
            "Shape of tensor: torch.Size([1, 3, 2])\n",
            "Datatype of tensor: torch.int64\n",
            "Device tensor is stored on: cpu\n"
          ]
        }
      ]
    },
    {
      "cell_type": "markdown",
      "source": [
        "## Tensor operations for manipulating Tensors\n",
        "+ addition\n",
        "- subtraction\n",
        "* element wise multiplication\n",
        "/ division\n",
        "@ Matrix Multiplication\n",
        "\n",
        "## NOTE: Most operations will not modify the existing tensor instead it will create a new one.  However, functions that end with a _  (add_) will run inplace and modify the existing tensor"
      ],
      "metadata": {
        "id": "4tXoYl_OCukE"
      }
    },
    {
      "cell_type": "markdown",
      "source": [
        "\n",
        "The difference between element-wise multiplication and matrix multiplication is the addition of values.\n",
        "\n",
        "For our tensor variable with values [1, 2, 3]:\n",
        "\n",
        "Operation\tCalculation\tCode\n",
        "Element-wise multiplication\t[1*1, 2*2, 3*3] = [1, 4, 9]\ttensor * tensor\n",
        "Matrix multiplication\t[1*1 + 2*2 + 3*3] = [14]\ttensor.matmul(tensor)\n"
      ],
      "metadata": {
        "id": "Noy-hthiDb3y"
      }
    },
    {
      "cell_type": "markdown",
      "source": [
        "\n",
        "\n",
        " | opperand  | Meaning    | Torch Function|\n",
        " |-------------|-------------|-------------|\n",
        " | +           | addition         | NONE   |\n",
        " | -           | subtraction      | NONE   |\n",
        " | *           | multiplication   | torch.mul()   |\n",
        " | /           | division         | NONE     |\n",
        " | @           | matrix multiplication| torch.matmul()   |\n",
        "\n",
        " ## Matrix Multiplication Rules\n",
        "\n",
        "### The inner dimensions must match.\n",
        "### The resulting matrix has the shape of the outer dimensions.\n",
        "\n",
        "See Pytorch Docs for all Matrix Multiplication rules: https://pytorch.org/docs/stable/generated/torch.matmul.html\n",
        "\n",
        ""
      ],
      "metadata": {
        "id": "2VK3TehBEFwT"
      }
    },
    {
      "cell_type": "code",
      "source": [
        "# EXAMPLE - Element Wise Multiplication\n",
        "\n",
        "mul_tensor = torch.tensor([1,2,3])\n",
        "mul_tensor * mul_tensor\n"
      ],
      "metadata": {
        "colab": {
          "base_uri": "https://localhost:8080/"
        },
        "id": "RHJLj3dtB_TV",
        "outputId": "64df3c5c-ab5f-4b65-bfc3-45eecd932f5b"
      },
      "execution_count": 25,
      "outputs": [
        {
          "output_type": "execute_result",
          "data": {
            "text/plain": [
              "tensor([1, 4, 9])"
            ]
          },
          "metadata": {},
          "execution_count": 25
        }
      ]
    },
    {
      "cell_type": "code",
      "source": [
        "# Example - Matrix Multiplication\n",
        "mul_tensor @ mul_tensor"
      ],
      "metadata": {
        "colab": {
          "base_uri": "https://localhost:8080/"
        },
        "id": "Idk5U4u6IXCq",
        "outputId": "e12d50c8-0507-4353-bd2b-5ab80f1e2ffe"
      },
      "execution_count": 26,
      "outputs": [
        {
          "output_type": "execute_result",
          "data": {
            "text/plain": [
              "tensor(14)"
            ]
          },
          "metadata": {},
          "execution_count": 26
        }
      ]
    },
    {
      "cell_type": "code",
      "source": [
        "torch.matmul(mul_tensor, mul_tensor)"
      ],
      "metadata": {
        "colab": {
          "base_uri": "https://localhost:8080/"
        },
        "id": "bL4T1JiCI2Ye",
        "outputId": "1483c741-92c3-479d-b68c-7609ad762f42"
      },
      "execution_count": 27,
      "outputs": [
        {
          "output_type": "execute_result",
          "data": {
            "text/plain": [
              "tensor(14)"
            ]
          },
          "metadata": {},
          "execution_count": 27
        }
      ]
    },
    {
      "cell_type": "markdown",
      "source": [
        "## Matrix multiplication is the lync pin in M/L and Neural Networks.  If your matrix's are compatable (see rule 1), things will not work.  You can use use the transpose function to flip a offending matrix so matrix multiplication works"
      ],
      "metadata": {
        "id": "vmJPmGBRPn3z"
      }
    },
    {
      "cell_type": "markdown",
      "source": [],
      "metadata": {
        "id": "IPu-7jL4PsGj"
      }
    },
    {
      "cell_type": "code",
      "source": [
        "## Example transpose\n",
        "\n",
        "tensor_A = torch.tensor([[1, 2],\n",
        "                         [3, 4],\n",
        "                         [5, 6]], dtype=torch.float32)\n",
        "\n",
        "tensor_B = torch.tensor([[7, 10],\n",
        "                         [8, 11],\n",
        "                         [9, 12]], dtype=torch.float32)"
      ],
      "metadata": {
        "id": "4SkQ8zmOJE0C"
      },
      "execution_count": 28,
      "outputs": []
    },
    {
      "cell_type": "code",
      "source": [
        "tensor_A @ tensor_B"
      ],
      "metadata": {
        "colab": {
          "base_uri": "https://localhost:8080/",
          "height": 165
        },
        "id": "3ezmvHdOQQOa",
        "outputId": "6fa2a5ec-4514-42b7-c803-420e342b321f"
      },
      "execution_count": 30,
      "outputs": [
        {
          "output_type": "error",
          "ename": "RuntimeError",
          "evalue": "ignored",
          "traceback": [
            "\u001b[0;31m---------------------------------------------------------------------------\u001b[0m",
            "\u001b[0;31mRuntimeError\u001b[0m                              Traceback (most recent call last)",
            "\u001b[0;32m<ipython-input-30-63a557fce452>\u001b[0m in \u001b[0;36m<cell line: 1>\u001b[0;34m()\u001b[0m\n\u001b[0;32m----> 1\u001b[0;31m \u001b[0mtensor_A\u001b[0m \u001b[0;34m@\u001b[0m \u001b[0mtensor_B\u001b[0m\u001b[0;34m\u001b[0m\u001b[0;34m\u001b[0m\u001b[0m\n\u001b[0m",
            "\u001b[0;31mRuntimeError\u001b[0m: mat1 and mat2 shapes cannot be multiplied (3x2 and 3x2)"
          ]
        }
      ]
    },
    {
      "cell_type": "markdown",
      "source": [],
      "metadata": {
        "id": "-niMZdW6QcWk"
      }
    },
    {
      "cell_type": "markdown",
      "source": [
        "## Fix the above error by one of the matrixs"
      ],
      "metadata": {
        "id": "dVwMMFY-QccA"
      }
    },
    {
      "cell_type": "code",
      "source": [
        "tensor_B.T"
      ],
      "metadata": {
        "colab": {
          "base_uri": "https://localhost:8080/"
        },
        "id": "yZXKK6MSQ2j2",
        "outputId": "20416a38-3cda-4eb3-8c34-dca21cf8974e"
      },
      "execution_count": 31,
      "outputs": [
        {
          "output_type": "execute_result",
          "data": {
            "text/plain": [
              "tensor([[ 7.,  8.,  9.],\n",
              "        [10., 11., 12.]])"
            ]
          },
          "metadata": {},
          "execution_count": 31
        }
      ]
    },
    {
      "cell_type": "code",
      "source": [
        "tensor_A @ tensor_B.T"
      ],
      "metadata": {
        "colab": {
          "base_uri": "https://localhost:8080/"
        },
        "id": "3Tr1tPpCQZUZ",
        "outputId": "2e452c7a-3495-41d7-d186-42750f7ed22e"
      },
      "execution_count": 32,
      "outputs": [
        {
          "output_type": "execute_result",
          "data": {
            "text/plain": [
              "tensor([[ 27.,  30.,  33.],\n",
              "        [ 61.,  68.,  75.],\n",
              "        [ 95., 106., 117.]])"
            ]
          },
          "metadata": {},
          "execution_count": 32
        }
      ]
    },
    {
      "cell_type": "code",
      "source": [],
      "metadata": {
        "id": "OS-Bb7q0Qyx9"
      },
      "execution_count": 32,
      "outputs": []
    },
    {
      "cell_type": "markdown",
      "source": [
        "Aggregation OR Finding the min, max, mean, sum\n",
        "\n",
        ".min  .max .mean .sum"
      ],
      "metadata": {
        "id": "tQYl7t37RBkd"
      }
    },
    {
      "cell_type": "code",
      "source": [
        "x = torch.arange(0, 100, 10)"
      ],
      "metadata": {
        "id": "DfruHSEHRJGF"
      },
      "execution_count": 33,
      "outputs": []
    },
    {
      "cell_type": "code",
      "source": [
        "x.min()"
      ],
      "metadata": {
        "colab": {
          "base_uri": "https://localhost:8080/"
        },
        "id": "7bMzOHRNRZXw",
        "outputId": "6fb0b062-1ef9-4481-e216-c0d984b9bd82"
      },
      "execution_count": 34,
      "outputs": [
        {
          "output_type": "execute_result",
          "data": {
            "text/plain": [
              "tensor(0)"
            ]
          },
          "metadata": {},
          "execution_count": 34
        }
      ]
    },
    {
      "cell_type": "code",
      "source": [
        "x.max()"
      ],
      "metadata": {
        "colab": {
          "base_uri": "https://localhost:8080/"
        },
        "id": "AhnqoAJfRaXp",
        "outputId": "890c02da-5c06-4b16-eca4-e1408e253a7a"
      },
      "execution_count": 35,
      "outputs": [
        {
          "output_type": "execute_result",
          "data": {
            "text/plain": [
              "tensor(90)"
            ]
          },
          "metadata": {},
          "execution_count": 35
        }
      ]
    },
    {
      "cell_type": "code",
      "source": [
        "x.type(torch.float32).mean()"
      ],
      "metadata": {
        "colab": {
          "base_uri": "https://localhost:8080/"
        },
        "id": "YjUUih1rRczk",
        "outputId": "4943c4a8-a793-43f5-9d78-bfd73da6dc63"
      },
      "execution_count": 36,
      "outputs": [
        {
          "output_type": "execute_result",
          "data": {
            "text/plain": [
              "tensor(45.)"
            ]
          },
          "metadata": {},
          "execution_count": 36
        }
      ]
    },
    {
      "cell_type": "code",
      "source": [
        "x.sum()"
      ],
      "metadata": {
        "colab": {
          "base_uri": "https://localhost:8080/"
        },
        "id": "We6n7-PiRh0d",
        "outputId": "3230a305-631f-4b8c-a768-5439ec03cbbd"
      },
      "execution_count": 37,
      "outputs": [
        {
          "output_type": "execute_result",
          "data": {
            "text/plain": [
              "tensor(450)"
            ]
          },
          "metadata": {},
          "execution_count": 37
        }
      ]
    },
    {
      "cell_type": "markdown",
      "source": [
        "### Find the min/max index"
      ],
      "metadata": {
        "id": "A3YaeqcuRxpT"
      }
    },
    {
      "cell_type": "code",
      "source": [
        "x.argmax()\n"
      ],
      "metadata": {
        "colab": {
          "base_uri": "https://localhost:8080/"
        },
        "id": "iIolbKHuRpUN",
        "outputId": "23e05d7e-cbfa-46d4-ce7d-21c017b2d254"
      },
      "execution_count": 38,
      "outputs": [
        {
          "output_type": "execute_result",
          "data": {
            "text/plain": [
              "tensor(9)"
            ]
          },
          "metadata": {},
          "execution_count": 38
        }
      ]
    },
    {
      "cell_type": "code",
      "source": [
        "x.argmin()"
      ],
      "metadata": {
        "colab": {
          "base_uri": "https://localhost:8080/"
        },
        "id": "wyUiXuvGR5YJ",
        "outputId": "360ab700-28ad-472d-823d-995223aae64a"
      },
      "execution_count": 39,
      "outputs": [
        {
          "output_type": "execute_result",
          "data": {
            "text/plain": [
              "tensor(0)"
            ]
          },
          "metadata": {},
          "execution_count": 39
        }
      ]
    },
    {
      "cell_type": "markdown",
      "source": [
        "# tensors & NumPy\n",
        "\n",
        "Pytorch tensors and NumPy arrays can be easily converted to each other"
      ],
      "metadata": {
        "id": "35Ah00a1Skl9"
      }
    },
    {
      "cell_type": "code",
      "source": [
        "import numpy as np\n",
        "array = np.arange(7.0, 42.0)\n",
        "tensor = torch.from_numpy(array)\n",
        "array, tensor"
      ],
      "metadata": {
        "colab": {
          "base_uri": "https://localhost:8080/"
        },
        "id": "-Ver00OgR8LR",
        "outputId": "19381a2a-63a2-439a-a3aa-cce9c3906839"
      },
      "execution_count": 40,
      "outputs": [
        {
          "output_type": "execute_result",
          "data": {
            "text/plain": [
              "(array([ 7.,  8.,  9., 10., 11., 12., 13., 14., 15., 16., 17., 18., 19.,\n",
              "        20., 21., 22., 23., 24., 25., 26., 27., 28., 29., 30., 31., 32.,\n",
              "        33., 34., 35., 36., 37., 38., 39., 40., 41.]),\n",
              " tensor([ 7.,  8.,  9., 10., 11., 12., 13., 14., 15., 16., 17., 18., 19., 20.,\n",
              "         21., 22., 23., 24., 25., 26., 27., 28., 29., 30., 31., 32., 33., 34.,\n",
              "         35., 36., 37., 38., 39., 40., 41.], dtype=torch.float64))"
            ]
          },
          "metadata": {},
          "execution_count": 40
        }
      ]
    },
    {
      "cell_type": "markdown",
      "source": [
        "## Note the datatype is float64 by default.  Many M/L task require float32. We can convert the tensor to float32"
      ],
      "metadata": {
        "id": "eOXZSPVvTJVE"
      }
    },
    {
      "cell_type": "code",
      "source": [
        "tensor = torch.from_numpy(array).type(torch.float32)"
      ],
      "metadata": {
        "id": "gcsmuBnxS6iA"
      },
      "execution_count": 41,
      "outputs": []
    },
    {
      "cell_type": "code",
      "source": [
        "tensor"
      ],
      "metadata": {
        "colab": {
          "base_uri": "https://localhost:8080/"
        },
        "id": "gdg3Uh9iTXz_",
        "outputId": "52d69bd6-4c10-4236-8ab3-a89dcf046c6d"
      },
      "execution_count": 42,
      "outputs": [
        {
          "output_type": "execute_result",
          "data": {
            "text/plain": [
              "tensor([ 7.,  8.,  9., 10., 11., 12., 13., 14., 15., 16., 17., 18., 19., 20.,\n",
              "        21., 22., 23., 24., 25., 26., 27., 28., 29., 30., 31., 32., 33., 34.,\n",
              "        35., 36., 37., 38., 39., 40., 41.])"
            ]
          },
          "metadata": {},
          "execution_count": 42
        }
      ]
    },
    {
      "cell_type": "code",
      "source": [
        "tensor.dtype"
      ],
      "metadata": {
        "colab": {
          "base_uri": "https://localhost:8080/"
        },
        "id": "vwLpwkvHTZS_",
        "outputId": "ab20139c-c4ff-4c82-e7b9-b0debe56d491"
      },
      "execution_count": 43,
      "outputs": [
        {
          "output_type": "execute_result",
          "data": {
            "text/plain": [
              "torch.float32"
            ]
          },
          "metadata": {},
          "execution_count": 43
        }
      ]
    },
    {
      "cell_type": "code",
      "source": [],
      "metadata": {
        "id": "xN3spZP3TcFU"
      },
      "execution_count": 43,
      "outputs": []
    },
    {
      "cell_type": "markdown",
      "source": [
        "We can convert from a Pytorch tensor to numPy array by running .numpy() on the array"
      ],
      "metadata": {
        "id": "aPFP4NCoTmr8"
      }
    },
    {
      "cell_type": "code",
      "source": [
        "tensor.numpy()"
      ],
      "metadata": {
        "colab": {
          "base_uri": "https://localhost:8080/"
        },
        "id": "vULcAbgTTwHq",
        "outputId": "841223fd-9da1-4825-dfcb-ced9e29c06f1"
      },
      "execution_count": 44,
      "outputs": [
        {
          "output_type": "execute_result",
          "data": {
            "text/plain": [
              "array([ 7.,  8.,  9., 10., 11., 12., 13., 14., 15., 16., 17., 18., 19.,\n",
              "       20., 21., 22., 23., 24., 25., 26., 27., 28., 29., 30., 31., 32.,\n",
              "       33., 34., 35., 36., 37., 38., 39., 40., 41.], dtype=float32)"
            ]
          },
          "metadata": {},
          "execution_count": 44
        }
      ]
    },
    {
      "cell_type": "markdown",
      "source": [
        "Randomness is great.  But in order to perform repeatable experiments we need to set a seed which will make the random output the same each time executed.\n",
        "\n",
        "We need to use the manual_seed() function with the rand() function.\n",
        "\n",
        "Review the Pytorch docs on reproducibility: https://pytorch.org/docs/stable/notes/randomness.html"
      ],
      "metadata": {
        "id": "A9dTei1SUELe"
      }
    },
    {
      "cell_type": "code",
      "source": [
        "SEED=42 # try changing this to different values and see what happens to the numbers below\n",
        "torch.manual_seed(seed=SEED)\n",
        "random_tensor_C = torch.rand(3, 4)\n",
        "\n",
        "# Have to reset the seed every time a new rand() is called\n",
        "# Without this, tensor_D would be different to tensor_C\n",
        "torch.random.manual_seed(seed=SEED) # try commenting this line out and seeing what happens\n",
        "random_tensor_D = torch.rand(3, 4)\n",
        "\n",
        "print(f\"verify both tensors are exactly the same\\n\")\n",
        "random_tensor_C == random_tensor_D"
      ],
      "metadata": {
        "colab": {
          "base_uri": "https://localhost:8080/"
        },
        "id": "I0_X0cI2TwxD",
        "outputId": "232f4c15-cc39-47a6-a157-aefb0f29d8c6"
      },
      "execution_count": 45,
      "outputs": [
        {
          "output_type": "stream",
          "name": "stdout",
          "text": [
            "verify both tensors are exactly the same\n",
            "\n"
          ]
        },
        {
          "output_type": "execute_result",
          "data": {
            "text/plain": [
              "tensor([[True, True, True, True],\n",
              "        [True, True, True, True],\n",
              "        [True, True, True, True]])"
            ]
          },
          "metadata": {},
          "execution_count": 45
        }
      ]
    },
    {
      "cell_type": "markdown",
      "source": [
        "Deep Learning is very compute intensive.  If you have access to a GPU it can do the calculations such as Matrix Multiplication 1000 times faster than a cpu. To check if you local machine has a GPU from a Jupyter notebook execute '!nvidia-smi' from colab or Kaggle type notebooks check with torch.cuda.is_available() function"
      ],
      "metadata": {
        "id": "necYdHgNWgAv"
      }
    },
    {
      "cell_type": "code",
      "source": [
        "torch.cuda.is_available()\n"
      ],
      "metadata": {
        "colab": {
          "base_uri": "https://localhost:8080/"
        },
        "id": "XdsTLDURU3Ds",
        "outputId": "ba8c71ad-1e2c-4290-83ea-291d5f1b6ca6"
      },
      "execution_count": 46,
      "outputs": [
        {
          "output_type": "execute_result",
          "data": {
            "text/plain": [
              "True"
            ]
          },
          "metadata": {},
          "execution_count": 46
        }
      ]
    },
    {
      "cell_type": "markdown",
      "source": [
        "While a GPU is nice it may not be available in your environment.  You can create device agnostic code that will run on either CPU or GPU."
      ],
      "metadata": {
        "id": "qi4W2jPYXL84"
      }
    },
    {
      "cell_type": "code",
      "source": [
        "# Set device type\n",
        "device = \"cuda\" if torch.cuda.is_available() else \"cpu\"\n",
        "device"
      ],
      "metadata": {
        "colab": {
          "base_uri": "https://localhost:8080/",
          "height": 35
        },
        "id": "QM4bOHwNViC6",
        "outputId": "0c6ba711-096b-40ee-bdd6-f8b84b7d4968"
      },
      "execution_count": 47,
      "outputs": [
        {
          "output_type": "execute_result",
          "data": {
            "text/plain": [
              "'cuda'"
            ],
            "application/vnd.google.colaboratory.intrinsic+json": {
              "type": "string"
            }
          },
          "metadata": {},
          "execution_count": 47
        }
      ]
    },
    {
      "cell_type": "markdown",
      "source": [
        "If you have multiple GPU's you can actually spread your workload across them all or run certain calculations on certain GPU's.  To check how man GPU's you have access to run torch.cuda.device_count()\n",
        "\n"
      ],
      "metadata": {
        "id": "jlxGBT4VXepQ"
      }
    },
    {
      "cell_type": "code",
      "source": [
        "torch.cuda.device_count()\n"
      ],
      "metadata": {
        "colab": {
          "base_uri": "https://localhost:8080/"
        },
        "id": "Q_v-6XKZXY4p",
        "outputId": "23a28364-8a89-4b86-e997-f51a84e9fe12"
      },
      "execution_count": 48,
      "outputs": [
        {
          "output_type": "execute_result",
          "data": {
            "text/plain": [
              "1"
            ]
          },
          "metadata": {},
          "execution_count": 48
        }
      ]
    },
    {
      "cell_type": "markdown",
      "source": [
        "### If needed you can move a tensor from a CPU to a GPU (SPEED)\n"
      ],
      "metadata": {
        "id": "EIlh0kV7YYzv"
      }
    },
    {
      "cell_type": "code",
      "source": [
        "\n",
        "# Create tensor (default on CPU)\n",
        "tensor = torch.tensor([1, 2, 3])\n",
        "\n",
        "# Tensor not on GPU\n",
        "print(tensor, tensor.device)\n",
        "\n",
        "# Move tensor to GPU (if available)\n",
        "tensor_on_gpu = tensor.to(device)\n",
        "tensor_on_gpu"
      ],
      "metadata": {
        "colab": {
          "base_uri": "https://localhost:8080/"
        },
        "id": "AzNdvf4uXyQz",
        "outputId": "7d0277d7-ae98-4e6f-acbf-9d2f096e7662"
      },
      "execution_count": 52,
      "outputs": [
        {
          "output_type": "stream",
          "name": "stdout",
          "text": [
            "tensor([1, 2, 3]) cpu\n"
          ]
        },
        {
          "output_type": "execute_result",
          "data": {
            "text/plain": [
              "tensor([1, 2, 3], device='cuda:0')"
            ]
          },
          "metadata": {},
          "execution_count": 52
        }
      ]
    },
    {
      "cell_type": "markdown",
      "source": [
        "NOTE: Numpy is doesn't support GPU's.  So to move something from a GPU to a CPU we run the .cpu() function"
      ],
      "metadata": {
        "id": "URsXUcnIYTly"
      }
    },
    {
      "cell_type": "code",
      "source": [
        "tensor_on_gpu.numpy()\n"
      ],
      "metadata": {
        "colab": {
          "base_uri": "https://localhost:8080/",
          "height": 165
        },
        "id": "2tRXBgbWY3mo",
        "outputId": "88a29357-25c0-4d86-8989-896ad69d98c7"
      },
      "execution_count": 54,
      "outputs": [
        {
          "output_type": "error",
          "ename": "TypeError",
          "evalue": "ignored",
          "traceback": [
            "\u001b[0;31m---------------------------------------------------------------------------\u001b[0m",
            "\u001b[0;31mTypeError\u001b[0m                                 Traceback (most recent call last)",
            "\u001b[0;32m<ipython-input-54-e0c96c7436fd>\u001b[0m in \u001b[0;36m<cell line: 1>\u001b[0;34m()\u001b[0m\n\u001b[0;32m----> 1\u001b[0;31m \u001b[0mtensor_on_gpu\u001b[0m\u001b[0;34m.\u001b[0m\u001b[0mnumpy\u001b[0m\u001b[0;34m(\u001b[0m\u001b[0;34m)\u001b[0m\u001b[0;34m\u001b[0m\u001b[0;34m\u001b[0m\u001b[0m\n\u001b[0m",
            "\u001b[0;31mTypeError\u001b[0m: can't convert cuda:0 device type tensor to numpy. Use Tensor.cpu() to copy the tensor to host memory first."
          ]
        }
      ]
    },
    {
      "cell_type": "code",
      "source": [
        "tensor_back_on_cpu = tensor_on_gpu.cpu().numpy()\n",
        "tensor_back_on_cpu"
      ],
      "metadata": {
        "colab": {
          "base_uri": "https://localhost:8080/"
        },
        "id": "zQ_aK2lMZCmt",
        "outputId": "1f283f4b-abd2-407c-8833-01266076c832"
      },
      "execution_count": 55,
      "outputs": [
        {
          "output_type": "execute_result",
          "data": {
            "text/plain": [
              "array([1, 2, 3])"
            ]
          },
          "metadata": {},
          "execution_count": 55
        }
      ]
    },
    {
      "cell_type": "markdown",
      "source": [
        "### NOTE: The original tensor stays on the GPU.  It just made a copy on the CPU"
      ],
      "metadata": {
        "id": "cDHTo4gSZQJN"
      }
    },
    {
      "cell_type": "code",
      "source": [
        "tensor_on_gpu"
      ],
      "metadata": {
        "colab": {
          "base_uri": "https://localhost:8080/"
        },
        "id": "JLzdIUhBZHfh",
        "outputId": "0c721afd-44ee-4cfe-c716-44be9fe74f73"
      },
      "execution_count": 57,
      "outputs": [
        {
          "output_type": "execute_result",
          "data": {
            "text/plain": [
              "tensor([1, 2, 3], device='cuda:0')"
            ]
          },
          "metadata": {},
          "execution_count": 57
        }
      ]
    },
    {
      "cell_type": "code",
      "source": [],
      "metadata": {
        "id": "_J0TULdsZOqE"
      },
      "execution_count": null,
      "outputs": []
    }
  ]
}